{
 "cells": [
  {
   "cell_type": "code",
   "execution_count": null,
   "metadata": {},
   "outputs": [],
   "source": [
    "import pandas as pd\n",
    "import numpy as np\n",
    "import datetime\n",
    "import seaborn as sns"
   ]
  },
  {
   "cell_type": "markdown",
   "metadata": {},
   "source": [
    "# Đọc dữ liệu"
   ]
  },
  {
   "cell_type": "code",
   "execution_count": null,
   "metadata": {},
   "outputs": [],
   "source": [
    "df_car = pd.read_csv(\"preprocessed_data.csv\")"
   ]
  },
  {
   "cell_type": "code",
   "execution_count": null,
   "metadata": {},
   "outputs": [],
   "source": [
    "df_car.head()"
   ]
  },
  {
   "cell_type": "code",
   "execution_count": null,
   "metadata": {},
   "outputs": [],
   "source": [
    "#drop các trường ít tương quan\n",
    "\n",
    "df_car.drop(\n",
    "    [\n",
    "        'url',\n",
    "        'date',\n",
    "        'out_color',\n",
    "        'in_color',\n",
    "        'num_door',\n",
    "        'num_seat',\n",
    "        'gear_type',\n",
    "        'drive_type',\n",
    "        'cylinder_capacity'\n",
    "    ],\n",
    "    axis=1,\n",
    "    inplace=True\n",
    ")"
   ]
  },
  {
   "cell_type": "code",
   "execution_count": null,
   "metadata": {},
   "outputs": [],
   "source": [
    "# thêm trường tuổi dựa vào năm sx\n",
    "df_car['age'] = datetime.datetime.now().year - df_car['model_year']"
   ]
  },
  {
   "cell_type": "code",
   "execution_count": null,
   "metadata": {},
   "outputs": [],
   "source": [
    "df_car"
   ]
  },
  {
   "cell_type": "markdown",
   "metadata": {},
   "source": [
    "# Phân tích used_distance"
   ]
  },
  {
   "cell_type": "markdown",
   "metadata": {},
   "source": [
    "Vấn đề: \n",
    "- outliers\n",
    "- xe mới (status = \"Xe mới\") có used_distance > 0\n",
    "- xe cũ (status = \"Xe đã dùng\") có used_distance = 0"
   ]
  },
  {
   "cell_type": "markdown",
   "metadata": {},
   "source": [
    "### outlier\n",
    "\n",
    "thông thường ngoài thực tế số km đi đc trong 1 năm ko quá 15 vạn (100000 km/năm hoặc 275km/ngày). ta có thể tính số km trung bình/năm, nếu vượt quá 10 v có thể coi là outliers (điền nhầm số km, hoặc điền nhầm model_year) -> loại bỏ"
   ]
  },
  {
   "cell_type": "code",
   "execution_count": null,
   "metadata": {},
   "outputs": [],
   "source": [
    "# sắp xếp những xe có km nhiều nhất\n",
    "df_car.sort_values(by=\"used_distance\", ascending=False).used_distance"
   ]
  },
  {
   "cell_type": "code",
   "execution_count": null,
   "metadata": {},
   "outputs": [],
   "source": [
    "# thêm trường avg_mileage, là số km/năm\n",
    "df_car['avg_mileage'] = df_car[\"used_distance\"]/df_car['age']\n",
    "df_car.head()"
   ]
  },
  {
   "cell_type": "code",
   "execution_count": null,
   "metadata": {},
   "outputs": [],
   "source": [
    "# lọc những xe trên 10v\n",
    "df1 = df_car[df_car.avg_mileage < 100000]"
   ]
  },
  {
   "cell_type": "code",
   "execution_count": null,
   "metadata": {},
   "outputs": [],
   "source": [
    "len(df_car)-len(df1)"
   ]
  },
  {
   "cell_type": "markdown",
   "metadata": {},
   "source": [
    "### Xe đã dùng mà km=0"
   ]
  },
  {
   "cell_type": "code",
   "execution_count": null,
   "metadata": {},
   "outputs": [],
   "source": [
    "print(\"tổng số xe: \", len(df1))\n",
    "print(\"số xe đã dùng mà km=0: \", len(df1[(df1.status == \"Xe đã dùng\") & (df1.used_distance == 0)]))"
   ]
  },
  {
   "cell_type": "markdown",
   "metadata": {},
   "source": [
    "Do số lượng số xe đã dùng mà km=0 khá nhiều (>25%) do đó cần tìm cách sửa giá trị cho hợp lý. Có 1 vài khả năng làm cho có lỗi sai:\n",
    "- set nhầm status thành xe đã sử dụng\n",
    "- ko set số km\n",
    "\n",
    "Một số cách tiếp cận:\n",
    "- C1: sửa lại toàn bộ sử dụng avg_mileage\n",
    "- C2: Ta có thể cân nhắc: với các xe age < x năm (x nhỏ khoảng 1, 2, 3 năm) tỉ lệ cao là set nhầm status -> để yên used_distance và chuyển status thành xe mới. Với các xe >= x năm, tỉ lệ cao là ko set số km -> sửa lại used_distance thành avg_mileage.\n",
    "- C3: nghĩ thêm các hướng tiếp cận khác"
   ]
  },
  {
   "cell_type": "code",
   "execution_count": null,
   "metadata": {},
   "outputs": [],
   "source": [
    "# C1: sửa tất cả thành avg_milaege\n",
    "\n",
    "# lọc những xe hợp lệ: xe đã dùng với used_distance >0\n",
    "df_valid_used_distance = df1[(df1.status == \"Xe đã dùng\") & (df1.used_distance > 0)]\n",
    "\n",
    "# sử dụng aggregate để tính trung bình km theo tuổi\n",
    "\n",
    "df_mean_distance_by_age = df_valid_used_distance.groupby([\"age\"]).mean()\n",
    "df_mean_distance_by_age\n"
   ]
  },
  {
   "cell_type": "code",
   "execution_count": null,
   "metadata": {},
   "outputs": [],
   "source": [
    "# hàm lambda xử lý logic thay giá trị\n",
    "def lambda_func(x):\n",
    "    if x.status == \"Xe đã dùng\" and x.used_distance == 0:\n",
    "        if x[\"age\"]>0: \n",
    "            return df_mean_distance_by_age.loc[x[\"age\"]].used_distance\n",
    "        else:\n",
    "            return x.used_distance\n",
    "    else:\n",
    "        return x.used_distance"
   ]
  },
  {
   "cell_type": "code",
   "execution_count": null,
   "metadata": {},
   "outputs": [],
   "source": [
    "# thay giá trị, thêm cột mới clean_used_distance\n",
    "df1[\"clean_used_distance\"] = df1.apply(lambda x: lambda_func(x), axis=1)\n",
    "df1.head()"
   ]
  },
  {
   "cell_type": "markdown",
   "metadata": {},
   "source": [
    "### xe mới có used_distance > 0\n",
    "\n",
    "Đối với trường hợp này, có 2 khả năng có thể xảy ra:\n",
    "- set nhầm status thành xe mới\n",
    "- set nhầm số km"
   ]
  },
  {
   "cell_type": "code",
   "execution_count": null,
   "metadata": {},
   "outputs": [],
   "source": [
    "print(\"Số xe mới có used_distance > 0 là: \", len(df1[(df1.status == \"Xe mới\") & (df1.used_distance > 0)]))"
   ]
  },
  {
   "cell_type": "markdown",
   "metadata": {},
   "source": [
    "Vì có ít xe bị sai kiểu này, ta có thể bỏ hết các xe này."
   ]
  },
  {
   "cell_type": "code",
   "execution_count": null,
   "metadata": {},
   "outputs": [],
   "source": [
    "df1 = df1.drop(df1[(df1.status == \"Xe mới\") & (df1.used_distance > 0)].index)"
   ]
  },
  {
   "cell_type": "markdown",
   "metadata": {},
   "source": [
    "### xe có used_distance nhỏ bất thường\n",
    "\n",
    "có nhiều xe có số km nhỏ (<100km) có khả năng cao là do điền bừa"
   ]
  },
  {
   "cell_type": "code",
   "execution_count": null,
   "metadata": {},
   "outputs": [],
   "source": [
    "print(\"số xe có km nhỏ hơn 100 là: \", len(df1[(df1.used_distance>0) & (df1.used_distance<100)]))"
   ]
  },
  {
   "cell_type": "markdown",
   "metadata": {},
   "source": [
    "Có thể select dữ liệu và check tay xem có khả năng là điền bừa ko. nếu là điền bừa có thể xóa đi, hoặc là thay thế bằng giá trị km TB theo age."
   ]
  },
  {
   "cell_type": "markdown",
   "metadata": {},
   "source": [
    "## Vẽ biểu đồ"
   ]
  },
  {
   "cell_type": "code",
   "execution_count": null,
   "metadata": {},
   "outputs": [],
   "source": [
    "df_used_car = df1[df1.status==\"Xe đã dùng\"]\n",
    "df_used_car.head()"
   ]
  },
  {
   "cell_type": "code",
   "execution_count": null,
   "metadata": {},
   "outputs": [],
   "source": [
    "sns.relplot(x=\"clean_used_distance\", y=\"price_vnd\", data = df_used_car)"
   ]
  },
  {
   "cell_type": "code",
   "execution_count": null,
   "metadata": {},
   "outputs": [],
   "source": [
    "X = df_used_car[[\"clean_used_distance\"]]\n",
    "Y = df_used_car[\"price_vnd\"]"
   ]
  },
  {
   "cell_type": "code",
   "execution_count": null,
   "metadata": {},
   "outputs": [],
   "source": [
    "len(X), len(Y)"
   ]
  },
  {
   "cell_type": "code",
   "execution_count": null,
   "metadata": {},
   "outputs": [],
   "source": [
    "from sklearn.model_selection import train_test_split\n",
    "X_train, X_test, y_train, y_test = train_test_split(X, Y, test_size=0.2, random_state=42)"
   ]
  },
  {
   "cell_type": "code",
   "execution_count": null,
   "metadata": {},
   "outputs": [],
   "source": [
    "print(X_train.shape)\n",
    "print(X_test.shape)\n",
    "print(y_train.shape)\n",
    "print(y_test.shape)"
   ]
  },
  {
   "cell_type": "code",
   "execution_count": null,
   "metadata": {},
   "outputs": [],
   "source": [
    "from sklearn.linear_model import LinearRegression\n",
    "model = LinearRegression()\n",
    "model.fit(X_train,y_train)"
   ]
  },
  {
   "cell_type": "code",
   "execution_count": null,
   "metadata": {},
   "outputs": [],
   "source": [
    "model.intercept_"
   ]
  },
  {
   "cell_type": "code",
   "execution_count": null,
   "metadata": {},
   "outputs": [],
   "source": [
    "model.coef_"
   ]
  },
  {
   "cell_type": "code",
   "execution_count": null,
   "metadata": {},
   "outputs": [],
   "source": [
    "model.predict(np.array([[10000]]))"
   ]
  },
  {
   "cell_type": "code",
   "execution_count": null,
   "metadata": {},
   "outputs": [],
   "source": [
    "model.predict(np.array([[100000]]))"
   ]
  },
  {
   "cell_type": "markdown",
   "metadata": {},
   "source": [
    "### One-hot encoding"
   ]
  },
  {
   "cell_type": "code",
   "execution_count": null,
   "metadata": {},
   "outputs": [],
   "source": [
    "a = pd.DataFrame({\"job\": [\"a\", \"b\", \"a\", \"c\"]})\n",
    "a"
   ]
  },
  {
   "cell_type": "code",
   "execution_count": null,
   "metadata": {},
   "outputs": [],
   "source": [
    "pd.get_dummies(data=a)"
   ]
  },
  {
   "cell_type": "code",
   "execution_count": null,
   "metadata": {},
   "outputs": [],
   "source": [
    "top_five_popular_brand = df_used_car[\"brand\"].value_counts().index[:5]\n",
    "df_used_popular_brand_car = df_used_car[df_used_car[\"brand\"].isin(top_five_popular_brand)]"
   ]
  },
  {
   "cell_type": "code",
   "execution_count": null,
   "metadata": {},
   "outputs": [],
   "source": [
    "len(df_used_popular_brand_car)"
   ]
  },
  {
   "cell_type": "code",
   "execution_count": null,
   "metadata": {},
   "outputs": [],
   "source": [
    "X = df_used_popular_brand_car[[\"brand\", \"clean_used_distance\", \"age\"]]\n",
    "Y = df_used_popular_brand_car[\"price_vnd\"]"
   ]
  },
  {
   "cell_type": "code",
   "execution_count": null,
   "metadata": {},
   "outputs": [],
   "source": [
    "len(X), len(Y)"
   ]
  },
  {
   "cell_type": "code",
   "execution_count": null,
   "metadata": {},
   "outputs": [],
   "source": [
    "X_onehot = pd.get_dummies(data=X)\n",
    "X_onehot"
   ]
  },
  {
   "cell_type": "code",
   "execution_count": null,
   "metadata": {},
   "outputs": [],
   "source": [
    "X_train, X_test, y_train, y_test = train_test_split(X_onehot, Y, test_size=0.2, random_state=42)"
   ]
  },
  {
   "cell_type": "code",
   "execution_count": null,
   "metadata": {},
   "outputs": [],
   "source": [
    "model = LinearRegression()\n",
    "model.fit(X_train,y_train)"
   ]
  },
  {
   "cell_type": "code",
   "execution_count": null,
   "metadata": {},
   "outputs": [],
   "source": [
    "coeff_parameter = pd.DataFrame(model.coef_, X_onehot.columns, columns=['Coefficient'])\n",
    "coeff_parameter"
   ]
  },
  {
   "cell_type": "code",
   "execution_count": null,
   "metadata": {},
   "outputs": [],
   "source": []
  }
 ],
 "metadata": {
  "kernelspec": {
   "display_name": "Python 3 (ipykernel)",
   "language": "python",
   "name": "python3"
  },
  "language_info": {
   "codemirror_mode": {
    "name": "ipython",
    "version": 3
   },
   "file_extension": ".py",
   "mimetype": "text/x-python",
   "name": "python",
   "nbconvert_exporter": "python",
   "pygments_lexer": "ipython3",
   "version": "3.9.7"
  },
  "vscode": {
   "interpreter": {
    "hash": "5a2ef7656957f2cabf33afdcbd2acf1cbe70bf0152c98ddb6dbe8bbc110a41f5"
   }
  }
 },
 "nbformat": 4,
 "nbformat_minor": 2
}
